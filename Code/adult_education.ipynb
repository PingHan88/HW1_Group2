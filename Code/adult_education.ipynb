{
 "cells": [
  {
   "cell_type": "code",
   "execution_count": 124,
   "id": "canadian-visitor",
   "metadata": {},
   "outputs": [],
   "source": [
    "import numpy as np\n",
    "from sklearn import preprocessing\n",
    "import sys\n",
    "import xlrd\n",
    "import random\n",
    "import pandas as pd\n",
    "import csv\n",
    "import os\n",
    "from keras import models\n",
    "from keras import layers\n",
    "from keras.models import Sequential\n",
    "from keras.layers import Dense,Dropout\n",
    "import keras_metrics as km\n",
    "from keras.utils import to_categorical\n",
    "import keras\n",
    "from sklearn.preprocessing import LabelEncoder,LabelBinarizer"
   ]
  },
  {
   "cell_type": "code",
   "execution_count": 125,
   "id": "expressed-henry",
   "metadata": {},
   "outputs": [],
   "source": [
    "from keras import backend as K\n",
    "\n",
    "def recall_m(y_true, y_pred):\n",
    "    true_positives = K.sum(K.round(K.clip(y_true * y_pred, 0, 1)))\n",
    "    possible_positives = K.sum(K.round(K.clip(y_true, 0, 1)))\n",
    "    recall = true_positives / (possible_positives + K.epsilon())\n",
    "    return recall\n",
    "\n",
    "def precision_m(y_true, y_pred):\n",
    "    true_positives = K.sum(K.round(K.clip(y_true * y_pred, 0, 1)))\n",
    "    predicted_positives = K.sum(K.round(K.clip(y_pred, 0, 1)))\n",
    "    precision = true_positives / (predicted_positives + K.epsilon())\n",
    "    return precision\n",
    "\n",
    "def f1_m(y_true, y_pred):\n",
    "    precision = precision_m(y_true, y_pred)\n",
    "    recall = recall_m(y_true, y_pred)\n",
    "    return 2*((precision*recall)/(precision+recall+K.epsilon()))"
   ]
  },
  {
   "cell_type": "code",
   "execution_count": 126,
   "id": "vertical-element",
   "metadata": {},
   "outputs": [],
   "source": [
    "#圖表函數\n",
    "import matplotlib.pyplot as plt\n",
    "def show_train_history(train_history,train,validation):\n",
    "    plt.plot(train_history.history[train])\n",
    "    plt.plot(train_history.history[validation])\n",
    "    plt.title('Train History')\n",
    "    plt.ylabel(train)\n",
    "    plt.xlabel('Epoch')\n",
    "    plt.legend(['train', 'validation'], loc='upper left')\n",
    "    plt.show()"
   ]
  },
  {
   "cell_type": "markdown",
   "id": "hazardous-analysis",
   "metadata": {},
   "source": [
    "# **<font color = red>資料分割</font>**"
   ]
  },
  {
   "cell_type": "code",
   "execution_count": 127,
   "id": "authentic-crest",
   "metadata": {},
   "outputs": [
    {
     "data": {
      "text/html": [
       "<div>\n",
       "<style scoped>\n",
       "    .dataframe tbody tr th:only-of-type {\n",
       "        vertical-align: middle;\n",
       "    }\n",
       "\n",
       "    .dataframe tbody tr th {\n",
       "        vertical-align: top;\n",
       "    }\n",
       "\n",
       "    .dataframe thead th {\n",
       "        text-align: right;\n",
       "    }\n",
       "</style>\n",
       "<table border=\"1\" class=\"dataframe\">\n",
       "  <thead>\n",
       "    <tr style=\"text-align: right;\">\n",
       "      <th></th>\n",
       "      <th>age</th>\n",
       "      <th>workclass</th>\n",
       "      <th>fnlwgt</th>\n",
       "      <th>education</th>\n",
       "      <th>education-num</th>\n",
       "      <th>marital-status</th>\n",
       "      <th>occupation</th>\n",
       "      <th>relationship</th>\n",
       "      <th>race</th>\n",
       "      <th>sex</th>\n",
       "      <th>capital-gain</th>\n",
       "      <th>capital-loss</th>\n",
       "      <th>hours-per-week</th>\n",
       "      <th>native-country</th>\n",
       "      <th>income</th>\n",
       "    </tr>\n",
       "  </thead>\n",
       "  <tbody>\n",
       "    <tr>\n",
       "      <th>0</th>\n",
       "      <td>39</td>\n",
       "      <td>State-gov</td>\n",
       "      <td>77516</td>\n",
       "      <td>Bachelors</td>\n",
       "      <td>13</td>\n",
       "      <td>Never-married</td>\n",
       "      <td>Adm-clerical</td>\n",
       "      <td>Not-in-family</td>\n",
       "      <td>White</td>\n",
       "      <td>Male</td>\n",
       "      <td>2174</td>\n",
       "      <td>0</td>\n",
       "      <td>40</td>\n",
       "      <td>United-States</td>\n",
       "      <td>&lt;=50k</td>\n",
       "    </tr>\n",
       "    <tr>\n",
       "      <th>1</th>\n",
       "      <td>50</td>\n",
       "      <td>Self-emp-not-inc</td>\n",
       "      <td>83311</td>\n",
       "      <td>Bachelors</td>\n",
       "      <td>13</td>\n",
       "      <td>Married-civ-spouse</td>\n",
       "      <td>Exec-managerial</td>\n",
       "      <td>Husband</td>\n",
       "      <td>White</td>\n",
       "      <td>Male</td>\n",
       "      <td>0</td>\n",
       "      <td>0</td>\n",
       "      <td>13</td>\n",
       "      <td>United-States</td>\n",
       "      <td>&lt;=50k</td>\n",
       "    </tr>\n",
       "    <tr>\n",
       "      <th>2</th>\n",
       "      <td>38</td>\n",
       "      <td>Private</td>\n",
       "      <td>215646</td>\n",
       "      <td>HS-grad</td>\n",
       "      <td>9</td>\n",
       "      <td>Divorced</td>\n",
       "      <td>Handlers-cleaners</td>\n",
       "      <td>Not-in-family</td>\n",
       "      <td>White</td>\n",
       "      <td>Male</td>\n",
       "      <td>0</td>\n",
       "      <td>0</td>\n",
       "      <td>40</td>\n",
       "      <td>United-States</td>\n",
       "      <td>&lt;=50k</td>\n",
       "    </tr>\n",
       "  </tbody>\n",
       "</table>\n",
       "</div>"
      ],
      "text/plain": [
       "   age          workclass  fnlwgt   education  education-num  \\\n",
       "0   39          State-gov   77516   Bachelors             13   \n",
       "1   50   Self-emp-not-inc   83311   Bachelors             13   \n",
       "2   38            Private  215646     HS-grad              9   \n",
       "\n",
       "        marital-status          occupation    relationship    race    sex  \\\n",
       "0        Never-married        Adm-clerical   Not-in-family   White   Male   \n",
       "1   Married-civ-spouse     Exec-managerial         Husband   White   Male   \n",
       "2             Divorced   Handlers-cleaners   Not-in-family   White   Male   \n",
       "\n",
       "   capital-gain  capital-loss  hours-per-week  native-country  income  \n",
       "0          2174             0              40   United-States   <=50k  \n",
       "1             0             0              13   United-States   <=50k  \n",
       "2             0             0              40   United-States   <=50k  "
      ]
     },
     "execution_count": 127,
     "metadata": {},
     "output_type": "execute_result"
    }
   ],
   "source": [
    "trainingData = pd.read_csv(\"data\\\\adultTrain.csv\")\n",
    "trainingData[:3]"
   ]
  },
  {
   "cell_type": "code",
   "execution_count": 128,
   "id": "apparent-tomato",
   "metadata": {},
   "outputs": [
    {
     "data": {
      "text/html": [
       "<div>\n",
       "<style scoped>\n",
       "    .dataframe tbody tr th:only-of-type {\n",
       "        vertical-align: middle;\n",
       "    }\n",
       "\n",
       "    .dataframe tbody tr th {\n",
       "        vertical-align: top;\n",
       "    }\n",
       "\n",
       "    .dataframe thead th {\n",
       "        text-align: right;\n",
       "    }\n",
       "</style>\n",
       "<table border=\"1\" class=\"dataframe\">\n",
       "  <thead>\n",
       "    <tr style=\"text-align: right;\">\n",
       "      <th></th>\n",
       "      <th>age</th>\n",
       "      <th>workclass</th>\n",
       "      <th>fnlwgt</th>\n",
       "      <th>education</th>\n",
       "      <th>education-num</th>\n",
       "      <th>marital-status</th>\n",
       "      <th>occupation</th>\n",
       "      <th>relationship</th>\n",
       "      <th>race</th>\n",
       "      <th>sex</th>\n",
       "      <th>capital-gain</th>\n",
       "      <th>capital-loss</th>\n",
       "      <th>hours-per-week</th>\n",
       "      <th>native-country</th>\n",
       "      <th>income</th>\n",
       "    </tr>\n",
       "  </thead>\n",
       "  <tbody>\n",
       "    <tr>\n",
       "      <th>0</th>\n",
       "      <td>25</td>\n",
       "      <td>Private</td>\n",
       "      <td>226802</td>\n",
       "      <td>11th</td>\n",
       "      <td>7</td>\n",
       "      <td>Never-married</td>\n",
       "      <td>Machine-op-inspct</td>\n",
       "      <td>Own-child</td>\n",
       "      <td>Black</td>\n",
       "      <td>Male</td>\n",
       "      <td>0</td>\n",
       "      <td>0</td>\n",
       "      <td>40</td>\n",
       "      <td>United-States</td>\n",
       "      <td>&lt;=50k</td>\n",
       "    </tr>\n",
       "    <tr>\n",
       "      <th>1</th>\n",
       "      <td>38</td>\n",
       "      <td>Private</td>\n",
       "      <td>89814</td>\n",
       "      <td>HS-grad</td>\n",
       "      <td>9</td>\n",
       "      <td>Married-civ-spouse</td>\n",
       "      <td>Farming-fishing</td>\n",
       "      <td>Husband</td>\n",
       "      <td>White</td>\n",
       "      <td>Male</td>\n",
       "      <td>0</td>\n",
       "      <td>0</td>\n",
       "      <td>50</td>\n",
       "      <td>United-States</td>\n",
       "      <td>&lt;=50k</td>\n",
       "    </tr>\n",
       "    <tr>\n",
       "      <th>2</th>\n",
       "      <td>28</td>\n",
       "      <td>Local-gov</td>\n",
       "      <td>336951</td>\n",
       "      <td>Assoc-acdm</td>\n",
       "      <td>12</td>\n",
       "      <td>Married-civ-spouse</td>\n",
       "      <td>Protective-serv</td>\n",
       "      <td>Husband</td>\n",
       "      <td>White</td>\n",
       "      <td>Male</td>\n",
       "      <td>0</td>\n",
       "      <td>0</td>\n",
       "      <td>40</td>\n",
       "      <td>United-States</td>\n",
       "      <td>&gt;50k</td>\n",
       "    </tr>\n",
       "  </tbody>\n",
       "</table>\n",
       "</div>"
      ],
      "text/plain": [
       "   age   workclass  fnlwgt    education  education-num       marital-status  \\\n",
       "0   25     Private  226802         11th              7        Never-married   \n",
       "1   38     Private   89814      HS-grad              9   Married-civ-spouse   \n",
       "2   28   Local-gov  336951   Assoc-acdm             12   Married-civ-spouse   \n",
       "\n",
       "           occupation relationship    race    sex  capital-gain  capital-loss  \\\n",
       "0   Machine-op-inspct    Own-child   Black   Male             0             0   \n",
       "1     Farming-fishing      Husband   White   Male             0             0   \n",
       "2     Protective-serv      Husband   White   Male             0             0   \n",
       "\n",
       "   hours-per-week  native-country  income  \n",
       "0              40   United-States   <=50k  \n",
       "1              50   United-States   <=50k  \n",
       "2              40   United-States    >50k  "
      ]
     },
     "execution_count": 128,
     "metadata": {},
     "output_type": "execute_result"
    }
   ],
   "source": [
    "testingData = pd.read_csv(\"data\\\\adultTest.csv\")\n",
    "testingData[:3]"
   ]
  },
  {
   "cell_type": "markdown",
   "id": "greenhouse-appendix",
   "metadata": {},
   "source": [
    "# **<font color = red>資料前置處理_1.刪除空直_2.將類別數值化_3.切割輸入輸出</font>**"
   ]
  },
  {
   "cell_type": "code",
   "execution_count": 129,
   "id": "naval-organic",
   "metadata": {},
   "outputs": [],
   "source": [
    "trainingData=trainingData.dropna()\n",
    "testingData=testingData.dropna()"
   ]
  },
  {
   "cell_type": "code",
   "execution_count": 130,
   "id": "premier-perry",
   "metadata": {},
   "outputs": [],
   "source": [
    "labelencoder = LabelEncoder()\n",
    "\n",
    "trainingData['workclass'] = labelencoder.fit_transform(trainingData['workclass'])\n",
    "trainingData['education'] = labelencoder.fit_transform(trainingData['education'])\n",
    "trainingData['marital-status'] = labelencoder.fit_transform(trainingData['marital-status'])\n",
    "trainingData['occupation'] = labelencoder.fit_transform(trainingData['occupation'])\n",
    "trainingData['relationship'] = labelencoder.fit_transform(trainingData['relationship'])\n",
    "trainingData['race'] = labelencoder.fit_transform(trainingData['race'])\n",
    "trainingData['sex'] = labelencoder.fit_transform(trainingData['sex'])\n",
    "trainingData['native-country'] = labelencoder.fit_transform(trainingData['native-country'])\n",
    "trainingData['income'] = labelencoder.fit_transform(trainingData['income'])\n",
    "\n",
    "testingData['workclass'] = labelencoder.fit_transform(testingData['workclass'])\n",
    "testingData['education'] = labelencoder.fit_transform(testingData['education'])\n",
    "testingData['marital-status'] = labelencoder.fit_transform(testingData['marital-status'])\n",
    "testingData['occupation'] = labelencoder.fit_transform(testingData['occupation'])\n",
    "testingData['relationship'] = labelencoder.fit_transform(testingData['relationship'])\n",
    "testingData['race'] = labelencoder.fit_transform(testingData['race'])\n",
    "testingData['sex'] = labelencoder.fit_transform(testingData['sex'])\n",
    "testingData['native-country'] = labelencoder.fit_transform(testingData['native-country'])\n",
    "testingData['income'] = labelencoder.fit_transform(testingData['income'])"
   ]
  },
  {
   "cell_type": "code",
   "execution_count": 131,
   "id": "derived-knock",
   "metadata": {},
   "outputs": [],
   "source": [
    "#分割成輸入及輸出\n",
    "cols = ['education']\n",
    "train_Label = trainingData[cols]\n",
    "train_Features = trainingData.drop(cols,axis=1)\n",
    "test_Label = testingData[cols]\n",
    "test_Features = testingData.drop(cols,axis=1)"
   ]
  },
  {
   "cell_type": "code",
   "execution_count": 132,
   "id": "national-appeal",
   "metadata": {},
   "outputs": [],
   "source": [
    "#進行資料正規化\n",
    "min_max_scaler = preprocessing.MinMaxScaler()\n",
    "train_Features = min_max_scaler.fit_transform(trainingData)\n",
    "train_Label = to_categorical(trainingData['education'])\n",
    "test_Features = min_max_scaler.fit_transform(testingData)\n",
    "test_Label = to_categorical(testingData['education'])"
   ]
  },
  {
   "cell_type": "markdown",
   "id": "several-amazon",
   "metadata": {},
   "source": [
    "# **<font color = red>建構model</font>**"
   ]
  },
  {
   "cell_type": "code",
   "execution_count": 134,
   "id": "cutting-drove",
   "metadata": {},
   "outputs": [],
   "source": [
    "#產生網路層\n",
    "model = Sequential()\n",
    "\n",
    "model.add(Dense(units=64,\n",
    "                kernel_initializer='uniform',\n",
    "                activation='relu',\n",
    "                input_shape=(train_Features.shape[1],)))\n",
    "model.add(Dropout(0.2))\n",
    "model.add(Dense(units=16,activation='relu'))\n",
    "model.add(Dropout(0.2))\n",
    "# model.add(Dense(units=16,\n",
    "#                 kernel_initializer='uniform',\n",
    "#                 activation='relu'))\n",
    "# model.add(Dropout(0.2))\n",
    "model.add(Dense(train_Label.shape[1],\n",
    "                kernel_initializer='uniform',\n",
    "                activation='softmax'))"
   ]
  },
  {
   "cell_type": "code",
   "execution_count": 135,
   "id": "proprietary-football",
   "metadata": {},
   "outputs": [],
   "source": [
    "model.compile(loss='categorical_crossentropy',\n",
    "              optimizer='adam',\n",
    "              metrics=['accuracy',f1_m,precision_m, recall_m])"
   ]
  },
  {
   "cell_type": "code",
   "execution_count": 136,
   "id": "sophisticated-thinking",
   "metadata": {},
   "outputs": [
    {
     "name": "stdout",
     "output_type": "stream",
     "text": [
      "Model: \"sequential_6\"\n",
      "_________________________________________________________________\n",
      "Layer (type)                 Output Shape              Param #   \n",
      "=================================================================\n",
      "dense_18 (Dense)             (None, 64)                1024      \n",
      "_________________________________________________________________\n",
      "dropout_12 (Dropout)         (None, 64)                0         \n",
      "_________________________________________________________________\n",
      "dense_19 (Dense)             (None, 16)                1040      \n",
      "_________________________________________________________________\n",
      "dropout_13 (Dropout)         (None, 16)                0         \n",
      "_________________________________________________________________\n",
      "dense_20 (Dense)             (None, 16)                272       \n",
      "=================================================================\n",
      "Total params: 2,336\n",
      "Trainable params: 2,336\n",
      "Non-trainable params: 0\n",
      "_________________________________________________________________\n",
      "None\n"
     ]
    }
   ],
   "source": [
    "print(model.summary())"
   ]
  },
  {
   "cell_type": "code",
   "execution_count": 137,
   "id": "marked-example",
   "metadata": {},
   "outputs": [],
   "source": [
    "#開始訓練\n",
    "train_history = model.fit(x=train_Features,\n",
    "                          y=train_Label,\n",
    "                          validation_split=0.1,\n",
    "                          epochs=30,\n",
    "                          batch_size=512,\n",
    "                          verbose=0)"
   ]
  },
  {
   "cell_type": "code",
   "execution_count": 138,
   "id": "surgical-national",
   "metadata": {},
   "outputs": [
    {
     "name": "stdout",
     "output_type": "stream",
     "text": [
      "0.09378256648778915 0.9874086380004883 0.9882731437683105 0.9998732805252075 0.9772838950157166\n"
     ]
    }
   ],
   "source": [
    "loss, accuracy, f1_score, precision, recall = model.evaluate(test_Features, test_Label, verbose=0)\n",
    "print(loss, accuracy, f1_score, precision, recall)"
   ]
  },
  {
   "cell_type": "code",
   "execution_count": 139,
   "id": "dental-nickname",
   "metadata": {},
   "outputs": [
    {
     "data": {
      "image/png": "[encoded data removed]",
      "text/plain": [
       "<Figure size 432x288 with 1 Axes>"
      ]
     },
     "metadata": {
      "needs_background": "light"
     },
     "output_type": "display_data"
    },
    {
     "data": {
      "image/png": "[encoded data removed]",
      "text/plain": [
       "<Figure size 432x288 with 1 Axes>"
      ]
     },
     "metadata": {
      "needs_background": "light"
     },
     "output_type": "display_data"
    }
   ],
   "source": [
    "show_train_history(train_history,'accuracy','val_accuracy')\n",
    "show_train_history(train_history,'loss','val_loss')"
   ]
  },
  {
   "cell_type": "code",
   "execution_count": null,
   "id": "latter-payday",
   "metadata": {},
   "outputs": [],
   "source": []
  }
 ],
 "metadata": {
  "kernelspec": {
   "display_name": "Python 3",
   "language": "python",
   "name": "python3"
  },
  "language_info": {
   "codemirror_mode": {
    "name": "ipython",
    "version": 3
   },
   "file_extension": ".py",
   "mimetype": "text/x-python",
   "name": "python",
   "nbconvert_exporter": "python",
   "pygments_lexer": "ipython3",
   "version": "3.8.8"
  }
 },
 "nbformat": 4,
 "nbformat_minor": 5
}